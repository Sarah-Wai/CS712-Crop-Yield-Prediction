{
 "cells": [
  {
   "cell_type": "code",
   "execution_count": null,
   "metadata": {
    "id": "_2YRSTux-3Zr"
   },
   "outputs": [],
   "source": [
    "import pandas as pd\n",
    "import numpy as np\n",
    "import matplotlib.pyplot as plt\n",
    "import seaborn as sns\n",
    "import statsmodels.api as sm\n",
    "from statsmodels.formula.api import ols\n",
    "from sklearn.model_selection import train_test_split\n",
    "from sklearn.metrics import r2_score, mean_absolute_error, mean_squared_error"
   ]
  },
  {
   "cell_type": "code",
   "execution_count": null,
   "metadata": {
    "colab": {
     "base_uri": "https://localhost:8080/"
    },
    "id": "hAePSDAtUO4t",
    "outputId": "4d14add2-3c3b-46d0-f9de-5ccd4c222867"
   },
   "outputs": [],
   "source": [
    "\n",
    "dataset_path = \"data/yield_df.csv\"\n",
    "\n",
    "# Reading the CSV file\n",
    "df = pd.read_csv(dataset_path)\n"
   ]
  },
  {
   "cell_type": "code",
   "execution_count": null,
   "metadata": {
    "colab": {
     "base_uri": "https://localhost:8080/",
     "height": 434
    },
    "id": "wWlZcpKcWxB1",
    "outputId": "134c6642-f542-427a-c366-eb144f5d71cd"
   },
   "outputs": [],
   "source": [
    "df.head()"
   ]
  },
  {
   "cell_type": "markdown",
   "metadata": {
    "id": "Gi6lVbMrUdL5"
   },
   "source": [
    "# Feature Selection"
   ]
  },
  {
   "cell_type": "markdown",
   "metadata": {
    "id": "KIx_sto2UkUo"
   },
   "source": [
    "a. Domain Knowledge\n",
    "\n",
    "\n",
    "1.   **pesticides(TU)**: Pesticide usage might directly affect crop yield.\n",
    "2.   **Land_per_1000ha**: Land area could influence yield.\n",
    "3.   **average_rain_fall_mm_per_year**: Rainfall is critical for crop growth.\n",
    "4.   **avg_temp**: Temperature affects crop growth and yield.\n",
    "5.   **Year**: Time trends might influence yield due to technological advancements or climate change.\n",
    "\n",
    "\n",
    "\n",
    "\n",
    "\n",
    "  \n",
    "  \n",
    "\n",
    "  "
   ]
  },
  {
   "cell_type": "markdown",
   "metadata": {
    "id": "_Q1lf2mWVxoN"
   },
   "source": [
    "b. Correlation Analysis"
   ]
  },
  {
   "cell_type": "code",
   "execution_count": null,
   "metadata": {
    "colab": {
     "base_uri": "https://localhost:8080/",
     "height": 1000
    },
    "id": "QUCL83ksW4kQ",
    "outputId": "646963a4-a94d-405c-976c-27382da7cb72"
   },
   "outputs": [],
   "source": [
    "# Creating a pairplot of the data\n",
    "sns.pairplot(data=df,hue='Item',kind='scatter');"
   ]
  },
  {
   "cell_type": "code",
   "execution_count": null,
   "metadata": {
    "colab": {
     "base_uri": "https://localhost:8080/",
     "height": 643
    },
    "id": "TbNfTC43V0oV",
    "outputId": "fe8393b3-5d6c-471d-983a-eb0304f28fc7"
   },
   "outputs": [],
   "source": [
    "\n",
    "#Removing Categorical Data\n",
    "df.drop(columns=['Country','Item','Code','Indicator Name','Indicator Code'], inplace=True) # Dropping unnecessary index column\n",
    "# Checking for missing values and drop them\n",
    "df.dropna(inplace=True)\n",
    "corr_matrix = df.corr() # Correlation matrix\n",
    "sns.heatmap(corr_matrix, annot=True, cmap='coolwarm')\n",
    "plt.show()"
   ]
  },
  {
   "cell_type": "markdown",
   "metadata": {
    "id": "6r77WqwFZlAX"
   },
   "source": [
    "**Correlation Analysis**\n",
    "1. Most Important Features for kg/ha_yield:\n",
    "  \n",
    "\n",
    "  *   Item Code (FAO) (0.16): Moderate positive correlation.\n",
    "  *   Year (0.089): Weak positive correlation.\n",
    "  *   pesticides(TU) (0.075): Weak positive correlation.\n",
    "\n",
    "2. Multicollinearity Check:\n",
    "  \n",
    "  *   pesticides(TU) and Land_per_1000ha are highly correlated (0.59). Including both in the model might introduce multicollinearity. We have to remove one of them.\n",
    "\n",
    "3. Weak or Irrelevant Features:\n",
    "\n",
    "\n",
    "  *   average_rain_fall_mm_per_year: Very weak correlation with all features, including yield. Likely not useful for the model.\n",
    "\n",
    "  *   avg_temp: Weak negative correlation with yield.\n",
    "\n",
    "***But according to domain knowledge , average_rain_fall_mm_per_year and avg_temp , these two features may be dependent on yield. ***\n",
    "\n",
    "\n",
    "\n",
    "\n",
    "\n",
    "\n",
    "\n",
    "\n",
    "\n"
   ]
  },
  {
   "cell_type": "markdown",
   "metadata": {
    "id": "3IJH76CGowUk"
   },
   "source": [
    "c. Multicollinearity Check"
   ]
  },
  {
   "cell_type": "code",
   "execution_count": null,
   "metadata": {
    "colab": {
     "base_uri": "https://localhost:8080/",
     "height": 300
    },
    "id": "GmhQv-C9o7nD",
    "outputId": "22972b27-742c-4633-b2b5-0fc5fbd4b77d"
   },
   "outputs": [],
   "source": [
    "from statsmodels.stats.outliers_influence import variance_inflation_factor\n",
    "\n",
    "# Creating a subset of the data with the continous independent variables.\n",
    "X = df\n",
    "\n",
    "# Calculating the variance inflation factor for each variable.\n",
    "vif = [variance_inflation_factor(X.values, i) for i in range(X.shape[1])]\n",
    "\n",
    "# Creating a DataFrame with the VIF results for the column names in X.\n",
    "df_vif = pd.DataFrame(vif, index=X.columns, columns = ['VIF'])\n",
    "\n",
    "# Adding a new column for interpretation\n",
    "df_vif['Interpretation'] = df_vif['VIF'].apply(lambda x:\n",
    "    'No multicollinearity' if x < 1 else\n",
    "    'Low multicollinearity' if x < 5 else\n",
    "    'Moderate multicollinearity' if x < 10 else\n",
    "    'Severe multicollinearity'\n",
    ")\n",
    "# Displaying the VIF results.\n",
    "df_vif"
   ]
  },
  {
   "cell_type": "markdown",
   "metadata": {
    "id": "Ds5TbvklrmXE"
   },
   "source": [
    "According to VIF report values, Year and avg_temp have severe multicollinearity. So , these two features should be considered for removal from the model."
   ]
  },
  {
   "cell_type": "markdown",
   "metadata": {
    "id": "GhiR-NoIuGsX"
   },
   "source": [
    "3. Check Features One by One"
   ]
  },
  {
   "cell_type": "code",
   "execution_count": null,
   "metadata": {
    "colab": {
     "base_uri": "https://localhost:8080/"
    },
    "id": "4wz1-tFkuKgB",
    "outputId": "93933bcd-d1bc-40bb-f3fc-259d78e3a3ec"
   },
   "outputs": [],
   "source": [
    "import statsmodels.api as sm\n",
    "\n",
    "# Simple linear regression for each feature\n",
    "for feature in df.columns:\n",
    "    if feature != \"kg/ha_yield\":  # Skipping the target variable\n",
    "        X = sm.add_constant(df[feature])  # Adding a constant for the intercept\n",
    "        model = sm.OLS(df[\"kg/ha_yield\"], X).fit()\n",
    "        print(f\"Feature: {feature}\")\n",
    "        print(model.summary())\n",
    "        print(\"\\n***********************************\\n\")"
   ]
  },
  {
   "cell_type": "markdown",
   "metadata": {
    "id": "s5NZrvxn79-q"
   },
   "source": [
    "Regression Summary for All Features (Dependent Variable: kg/ha_yield)\n",
    "\n",
    "1.   Area Code (M49)\n",
    "\n",
    "  *   Effect: Weak negative (-1.57 kg/ha per unit increase)\n",
    "  *  Significance: Highly significant (p < 0.0001)\n",
    "  *  R²: 0.002 (Very low predictive power)\n",
    "\n",
    "\n",
    "2.   Year\n",
    "\n",
    "  *  Effect: Positive (85.84 kg/ha increase per year)\n",
    "  *  Significance: Highly significant (p < 0.0001)\n",
    "  *  R²: 0.008 (Still low predictive power)\n",
    "  *  Concern: High condition number (potential multicollinearity)\n",
    "\n",
    "3. Item Code (FAO)\n",
    "\n",
    "  *  Effect: Positive (12.96 kg/ha per unit increase)\n",
    "  *  Significance: Highly significant (p < 0.0001)\n",
    "  *  R²: 0.026 (Higher but still low)\n",
    "  *  Concern: Non-normal residuals\n",
    "\n",
    "4. Pesticides (TU)\n",
    "\n",
    "  *  Effect: Very small positive (0.01 kg/ha per unit increase)\n",
    "  *  Significance: Highly significant (p < 0.0001)\n",
    "  *  R²: 0.006 (Minimal impact on yield)\n",
    "  *  Concern: High condition number (potential multicollinearity)\n",
    "\n",
    "5. Land per 1000 ha\n",
    "\n",
    "  *  Effect: Small positive (0.36 kg/ha per unit increase)\n",
    "  *  Significance: Highly significant (p < 0.0001)\n",
    "  *  R²: 0.004 (Very low predictive power)\n",
    "\n",
    "6. Average Rainfall (mm/year)\n",
    "\n",
    "  *  Effect: Weak negative (-2.89 kg/ha per mm increase)\n",
    "  *  Significance: Not statistically significant (p = 0.069)\n",
    "  *  R²: ~0 (No meaningful relationship)\n",
    "\n",
    "7. Average Temperature (°C)\n",
    "\n",
    "  *  Effect: Strong negative (-119.5 kg/ha per °C increase)\n",
    "  *  Significance: Highly significant (p < 0.0001)\n",
    "  *  R²: 0.012 (Still weak predictor but better than most)\n"
   ]
  },
  {
   "cell_type": "markdown",
   "metadata": {
    "id": "mw_Fdxy69g80"
   },
   "source": [
    "## **Building the Multiple Regression Model**"
   ]
  },
  {
   "cell_type": "code",
   "execution_count": null,
   "metadata": {
    "id": "jn-PcNVO-als"
   },
   "outputs": [],
   "source": [
    "df.rename(columns={'Area Code (M49)': 'AreaCode', 'Item Code (FAO)': 'ItemCode',\n",
    "                  'pesticides(TU)': 'Pesticides','kg/ha_yield':'kg_pr_ha_yield'}, inplace=True)\n"
   ]
  },
  {
   "cell_type": "code",
   "execution_count": null,
   "metadata": {
    "colab": {
     "base_uri": "https://localhost:8080/"
    },
    "id": "CAxDEy6__Ztd",
    "outputId": "57f663b8-3a88-4f32-9e0d-fb57ce9a0fea"
   },
   "outputs": [],
   "source": [
    "df.info()"
   ]
  },
  {
   "cell_type": "code",
   "execution_count": null,
   "metadata": {
    "colab": {
     "base_uri": "https://localhost:8080/"
    },
    "id": "6HDVnS8Z79t6",
    "outputId": "40e1b9fa-ab05-4889-a050-2c90cc822cbd"
   },
   "outputs": [],
   "source": [
    "from statsmodels.formula.api import ols\n",
    "from sklearn.metrics import r2_score, mean_absolute_error, mean_squared_error\n",
    "\n",
    "# Splitting the data into training (80%) and testing (20%) sets\n",
    "train_df, test_df = train_test_split(df, test_size=0.2, random_state=42)\n",
    "\n",
    "# Defining the OLS formula\n",
    "ols_formula_1 = 'kg_pr_ha_yield ~ AreaCode + ItemCode + Pesticides + average_rain_fall_mm_per_year + avg_temp'\n",
    "\n",
    "# Fitting the model using only the training set\n",
    "OLS_1 = ols(formula=ols_formula_1, data=train_df)\n",
    "model_1 = OLS_1.fit()\n",
    "\n",
    "# Making predictions on the test set\n",
    "y_pred = model_1.predict(test_df)\n",
    "\n",
    "# Calculating evaluation metrics on the test set\n",
    "r2 = r2_score(test_df['kg_pr_ha_yield'], y_pred)\n",
    "mse = mean_squared_error(test_df['kg_pr_ha_yield'], y_pred)\n",
    "mae = mean_absolute_error(test_df['kg_pr_ha_yield'], y_pred)\n",
    "rmse = np.sqrt(mse)  # Root Mean Squared Error\n",
    "\n",
    "# Printing model summary (trained on training set)\n",
    "print(model_1.summary())\n",
    "\n",
    "# Printing performance metrics on test data\n",
    "print(\"\\nModel Performance Metrics (on Test Set):\")\n",
    "print(f\"R-squared (Test): {r2:.4f}\")\n",
    "print(f\"MSE: {mse:.4f}\")\n",
    "print(f\"MAE: {mae:.4f}\")\n",
    "print(f\"RMSE: {rmse:.4f}\")\n",
    "\n"
   ]
  },
  {
   "cell_type": "code",
   "execution_count": null,
   "metadata": {
    "colab": {
     "base_uri": "https://localhost:8080/",
     "height": 564
    },
    "id": "gYFAdtUpAWCQ",
    "outputId": "8b9d70fe-a9a4-40ff-d354-ea52470ca75b"
   },
   "outputs": [],
   "source": [
    "# Calculating the residuals.\n",
    "\n",
    "# Extracting actual values from train and test sets\n",
    "y_train = train_df['kg_pr_ha_yield']\n",
    "y_test = test_df['kg_pr_ha_yield']\n",
    "\n",
    "\n",
    "# Computing residuals for test data\n",
    "residuals = y_test - y_pred\n",
    "\n",
    "plt.figure(figsize=(14, 6))\n",
    "\n",
    "# Predicted vs Actual values plot\n",
    "plt.subplot(1, 2, 1)\n",
    "plt.scatter(y_test, y_pred, alpha=0.5)\n",
    "plt.xlabel('Actual Values')\n",
    "plt.ylabel('Predicted Values')\n",
    "plt.title('Predicted vs Actual')\n",
    "plt.plot([y_test.min(), y_test.max()], [y_test.min(), y_test.max()], 'r--', lw=2)  # 45-degree reference line\n",
    "\n",
    "# Residuals plot\n",
    "plt.subplot(1, 2, 2)\n",
    "plt.scatter(y_pred, residuals, alpha=0.5)\n",
    "plt.xlabel('Predicted Values')\n",
    "plt.ylabel('Residuals')\n",
    "plt.title('Residuals Plot')\n",
    "plt.axhline(y=0, color='r', linestyle='--', lw=2)  # Horizontal line at zero\n",
    "\n",
    "plt.show()\n",
    "\n"
   ]
  },
  {
   "cell_type": "markdown",
   "metadata": {
    "id": "Fe3s1K0iA1eC"
   },
   "source": [
    "Predicted vs. Actual Plot (Left)\n",
    "\n",
    "The x-axis represents actual values, and the y-axis represents predicted values.\n",
    "The red dashed line represents the ideal case where predictions match actual values.\n",
    "The points appear clustered near the bottom, indicating that the model tends to underestimate higher values.\n",
    "Residuals Plot (Right)\n",
    "\n",
    "The x-axis represents predicted values, and the y-axis represents residuals (errors).\n",
    "The red dashed line at zero indicates an ideal error distribution.\n",
    "The spread of residuals increases with predicted values, suggesting potential heteroscedasticity (variance of errors increasing with larger values), which might indicate model issues.\n"
   ]
  },
  {
   "cell_type": "markdown",
   "metadata": {
    "id": "3apE6rrkBaMh"
   },
   "source": [
    "# Add additional features to improve predictions"
   ]
  },
  {
   "cell_type": "code",
   "execution_count": null,
   "metadata": {
    "id": "u4vgo_YGBwcb"
   },
   "outputs": [],
   "source": [
    "df['rainfall_temp'] = df['average_rain_fall_mm_per_year'] * df['avg_temp']\n",
    "df['pesticide_land'] = df['Pesticides'] * df['Land_per_1000ha']\n"
   ]
  },
  {
   "cell_type": "code",
   "execution_count": null,
   "metadata": {
    "colab": {
     "base_uri": "https://localhost:8080/"
    },
    "id": "0V6P-nwuDNzI",
    "outputId": "83ef375c-8ddd-41e3-e97d-033c0f35b2f5"
   },
   "outputs": [],
   "source": [
    "from statsmodels.formula.api import ols\n",
    "from sklearn.metrics import r2_score, mean_absolute_error, mean_squared_error\n",
    "\n",
    "# Splitting the data into training (80%) and testing (20%) sets\n",
    "train_df, test_df = train_test_split(df, test_size=0.2, random_state=42)\n",
    "\n",
    "# Defining the OLS formula\n",
    "ols_formula_2 = 'kg_pr_ha_yield ~ AreaCode + ItemCode + Pesticides + average_rain_fall_mm_per_year + avg_temp + rainfall_temp +pesticide_land'\n",
    "\n",
    "# Fitting the model using only the training set\n",
    "OLS_2 = ols(formula=ols_formula_2, data=train_df)\n",
    "model_2 = OLS_2.fit()\n",
    "\n",
    "# Making predictions on the test set\n",
    "y_pred = model_2.predict(test_df)\n",
    "\n",
    "# Calculating evaluation metrics on the test set\n",
    "r2 = r2_score(test_df['kg_pr_ha_yield'], y_pred)\n",
    "mse = mean_squared_error(test_df['kg_pr_ha_yield'], y_pred)\n",
    "mae = mean_absolute_error(test_df['kg_pr_ha_yield'], y_pred)\n",
    "rmse = np.sqrt(mse)  # Root Mean Squared Error\n",
    "\n",
    "# Printing model summary (trained on training set)\n",
    "print(model_2.summary())\n",
    "\n",
    "# Printing performance metrics on test data\n",
    "print(\"\\nModel Performance Metrics (on Test Set):\")\n",
    "print(f\"R-squared (Test): {r2:.4f}\")\n",
    "print(f\"MSE: {mse:.4f}\")\n",
    "print(f\"MAE: {mae:.4f}\")\n",
    "print(f\"RMSE: {rmse:.4f}\")\n"
   ]
  },
  {
   "cell_type": "code",
   "execution_count": null,
   "metadata": {
    "colab": {
     "base_uri": "https://localhost:8080/",
     "height": 564
    },
    "id": "AI0Vd9TSEg2g",
    "outputId": "0d911e9e-d953-4826-f612-d8fee8e6a29d"
   },
   "outputs": [],
   "source": [
    "\n",
    "# Calculating the residuals.\n",
    "\n",
    "# Extracting actual values from train and test sets\n",
    "y_train = train_df['kg_pr_ha_yield']\n",
    "y_test = test_df['kg_pr_ha_yield']\n",
    "\n",
    "\n",
    "# Computing residuals for test data\n",
    "residuals = y_test - y_pred\n",
    "\n",
    "plt.figure(figsize=(14, 6))\n",
    "\n",
    "# Predicted vs Actual values plot\n",
    "plt.subplot(1, 2, 1)\n",
    "plt.scatter(y_test, y_pred, alpha=0.5)\n",
    "plt.xlabel('Actual Values')\n",
    "plt.ylabel('Predicted Values')\n",
    "plt.title('Predicted vs Actual')\n",
    "plt.plot([y_test.min(), y_test.max()], [y_test.min(), y_test.max()], 'r--', lw=2)  # 45-degree reference line\n",
    "\n",
    "# Residuals plot\n",
    "plt.subplot(1, 2, 2)\n",
    "plt.scatter(y_pred, residuals, alpha=0.5)\n",
    "plt.xlabel('Predicted Values')\n",
    "plt.ylabel('Residuals')\n",
    "plt.title('Residuals Plot')\n",
    "plt.axhline(y=0, color='r', linestyle='--', lw=2)  # Horizontal line at zero\n",
    "\n",
    "plt.show()\n",
    "\n",
    "# Show the plot.\n",
    "plt.show()"
   ]
  },
  {
   "cell_type": "markdown",
   "metadata": {
    "id": "vaBWIWNvINL8"
   },
   "source": [
    "# Conclusion:\n",
    "\n",
    "*   The second model didn't show significant improvement.\n",
    "\n",
    "*   While MAE slightly improved, R² dropped and RMSE increased, suggesting the new features aren't adding value.\n",
    "\n",
    "*   A Random Forest model could better capture complex relationships, handle feature interactions, and improve robustness, potentially leading to better performance."
   ]
  },
  {
   "cell_type": "markdown",
   "metadata": {
    "id": "BwlRCPVRJp31"
   },
   "source": [
    "# Apply Random Forest\n"
   ]
  },
  {
   "cell_type": "code",
   "execution_count": null,
   "metadata": {
    "colab": {
     "base_uri": "https://localhost:8080/"
    },
    "id": "pWxRcGqYQCg-",
    "outputId": "ffcc5117-a7d3-4b3d-8e39-cd3643b7a93a"
   },
   "outputs": [],
   "source": [
    "df.info()"
   ]
  },
  {
   "cell_type": "code",
   "execution_count": null,
   "metadata": {
    "id": "K5_PwgfQKWg1"
   },
   "outputs": [],
   "source": [
    "# Splitting data into training and testing blocks\n",
    "X = df.drop(['kg_pr_ha_yield'], axis=1)\n",
    "y = df['kg_pr_ha_yield']"
   ]
  },
  {
   "cell_type": "code",
   "execution_count": null,
   "metadata": {
    "colab": {
     "base_uri": "https://localhost:8080/",
     "height": 206
    },
    "id": "J7oXRVB0Tky0",
    "outputId": "fca7009f-7737-44ff-e0b5-daf31b34e926"
   },
   "outputs": [],
   "source": [
    "from sklearn.model_selection import train_test_split\n",
    "X_train, X_test, y_train, y_test = train_test_split(X, y, test_size = 0.50, random_state=42)\n",
    "\n",
    "X_test.head()\n"
   ]
  },
  {
   "cell_type": "code",
   "execution_count": null,
   "metadata": {
    "colab": {
     "base_uri": "https://localhost:8080/",
     "height": 241
    },
    "id": "boB8GIcJT7uF",
    "outputId": "3e814c00-1c37-47b6-d929-ee18b7bedc2f"
   },
   "outputs": [],
   "source": [
    "y_test.head()"
   ]
  },
  {
   "cell_type": "code",
   "execution_count": null,
   "metadata": {
    "colab": {
     "base_uri": "https://localhost:8080/",
     "height": 241
    },
    "id": "z_D85bdaUjv-",
    "outputId": "9f98207a-becf-42a3-9523-b91542c57734"
   },
   "outputs": [],
   "source": [
    "y_train.head()"
   ]
  },
  {
   "cell_type": "code",
   "execution_count": null,
   "metadata": {
    "colab": {
     "base_uri": "https://localhost:8080/",
     "height": 206
    },
    "id": "Ry6Aqwx9UohJ",
    "outputId": "22b8c01b-61d0-41c9-fd24-433211b61141"
   },
   "outputs": [],
   "source": [
    "X_train.head()"
   ]
  },
  {
   "cell_type": "code",
   "execution_count": null,
   "metadata": {
    "id": "sKRV96g4UDcO"
   },
   "outputs": [],
   "source": [
    "from sklearn.ensemble import RandomForestRegressor\n",
    "\n",
    "rfr = RandomForestRegressor(n_estimators=2)\n",
    "rfr.fit(X_train, y_train)\n",
    "y_pred = rfr.predict(X_test)\n"
   ]
  },
  {
   "cell_type": "code",
   "execution_count": null,
   "metadata": {
    "colab": {
     "base_uri": "https://localhost:8080/"
    },
    "id": "gG975e6zVck1",
    "outputId": "ef3ec6df-fd10-453f-e85c-dae211f24d8b"
   },
   "outputs": [],
   "source": [
    "from sklearn.metrics import mean_absolute_error, mean_squared_error, r2_score\n",
    "\n",
    "mae = mean_absolute_error(y_test, y_pred)\n",
    "mse = mean_squared_error(y_test, y_pred)\n",
    "r2 = r2_score(y_test, y_pred)\n",
    "rmse = np.sqrt(mse)  # Root Mean Squared Error\n",
    "\n",
    "\n",
    "# Printing performance metrics on test data\n",
    "print(\"\\nModel Performance Metrics (on Test Set):\")\n",
    "print(f\"R-squared (Test): {r2:.4f}\")\n",
    "print(f\"MSE: {mse:.4f}\")\n",
    "print(f\"MAE: {mae:.4f}\")\n",
    "print(f\"RMSE: {rmse:.4f}\")"
   ]
  },
  {
   "cell_type": "code",
   "execution_count": null,
   "metadata": {
    "colab": {
     "base_uri": "https://localhost:8080/",
     "height": 564
    },
    "id": "IzJt_NKYXwIm",
    "outputId": "2f6cdd10-4193-47f2-8df0-22a872b8c392"
   },
   "outputs": [],
   "source": [
    "\n",
    "# Computing residuals for test data\n",
    "residuals = y_test - y_pred\n",
    "\n",
    "plt.figure(figsize=(14, 6))\n",
    "\n",
    "# Predicted vs Actual values plot\n",
    "plt.subplot(1, 2, 1)\n",
    "plt.scatter(y_test, y_pred, alpha=0.5)\n",
    "plt.xlabel('Actual Values')\n",
    "plt.ylabel('Predicted Values')\n",
    "plt.title('Predicted vs Actual')\n",
    "plt.plot([y_test.min(), y_test.max()], [y_test.min(), y_test.max()], 'r--', lw=2)  # 45-degree reference line\n",
    "\n",
    "# Residuals plot\n",
    "plt.subplot(1, 2, 2)\n",
    "plt.scatter(y_pred, residuals, alpha=0.5)\n",
    "plt.xlabel('Predicted Values')\n",
    "plt.ylabel('Residuals')\n",
    "plt.title('Residuals Plot')\n",
    "plt.axhline(y=0, color='r', linestyle='--', lw=2)  # Horizontal line at zero\n",
    "\n",
    "plt.show()\n",
    "\n"
   ]
  },
  {
   "cell_type": "markdown",
   "metadata": {
    "id": "w351l_1eapjf"
   },
   "source": [
    "The first graph illustrates that the model performs well, despite some variations from the optimal line. Indicators of potential heteroscedasticity are present in the residuals plot, which displays a funnel shape, suggesting that the model might have overlooked some data."
   ]
  },
  {
   "cell_type": "markdown",
   "metadata": {
    "id": "HnzprLtIi3V8"
   },
   "source": [
    "\n",
    "\n",
    "1. **R-squared (R²):**\n",
    "    *   Random Forest: 0.9294 (strong predictive power)\n",
    "    *   Multiple Linear Regression: 0.0564 (very weak predictive power)\n",
    "\n",
    "2. **Mean Squared Error (MSE):**\n",
    "    *   Random Forest: 4,537,729.41 (much lower error)\n",
    "    *   Multiple Linear Regression: 60,936,594.21 (significantly higher error)\n",
    "\n",
    "3. **Mean Absolute Error (MAE):**\n",
    "    *   Random Forest: 872.26\n",
    "    *   Multiple Linear Regression: 5708.26\n",
    "\n",
    "4. **Root Mean Squared Error (RMSE):**\n",
    "    *   Random Forest: 2130.19\n",
    "    *   Multiple Linear Regression: 7806.19\n",
    "\n",
    "# Conclusion\n",
    "The Random Forest model outperforms Multiple Linear Regression significantly. \n",
    "It has a much higher R² value (indicating better fit), and considerably lower MSE, MAE, and RMSE values (indicating lower error). \n",
    "This suggests that Random Forest is a far better choice for this prediction task.\n",
    "\n",
    "\n"
   ]
  },
  {
   "cell_type": "markdown",
   "metadata": {
    "id": "XSA8G73Va_ED"
   },
   "source": []
  }
 ],
 "metadata": {
  "colab": {
   "provenance": []
  },
  "kernelspec": {
   "display_name": "Python 3 (ipykernel)",
   "language": "python",
   "name": "python3"
  },
  "language_info": {
   "codemirror_mode": {
    "name": "ipython",
    "version": 3
   },
   "file_extension": ".py",
   "mimetype": "text/x-python",
   "name": "python",
   "nbconvert_exporter": "python",
   "pygments_lexer": "ipython3",
   "version": "3.12.6"
  }
 },
 "nbformat": 4,
 "nbformat_minor": 4
}
