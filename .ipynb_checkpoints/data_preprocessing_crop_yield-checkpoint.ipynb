{
 "cells": [
  {
   "cell_type": "code",
   "execution_count": 9,
   "metadata": {
    "id": "whP3_0a2U4E3"
   },
   "outputs": [],
   "source": [
    "import pandas as pd"
   ]
  },
  {
   "cell_type": "markdown",
   "metadata": {
    "id": "1Be7QOs4VQcu"
   },
   "source": [
    "# Land Cover"
   ]
  },
  {
   "cell_type": "code",
   "execution_count": 10,
   "metadata": {},
   "outputs": [
    {
     "name": "stdout",
     "output_type": "stream",
     "text": [
      "True\n"
     ]
    }
   ],
   "source": [
    "import os\n",
    "print(os.path.exists(\"data/LandCover_raw.xlsx\"))\n",
    "\n"
   ]
  },
  {
   "cell_type": "code",
   "execution_count": 11,
   "metadata": {
    "id": "vIfGcACpVVPf"
   },
   "outputs": [],
   "source": [
    "# Load the Excel file\n",
    "df = pd.read_excel(\"data/LandCover_raw.xlsx\")"
   ]
  },
  {
   "cell_type": "code",
   "execution_count": 12,
   "metadata": {
    "id": "iFg8dIrtVbc_"
   },
   "outputs": [],
   "source": [
    "# Drop Un-wanted Colums\n",
    "columns_to_drop = ['Domain','Domain Code','Element Code','Item Code','Year Code','Unit','Flag','Flag Description','Note']\n",
    "df_cleaned = df.drop(columns=columns_to_drop, errors='ignore')"
   ]
  },
  {
   "cell_type": "code",
   "execution_count": 13,
   "metadata": {
    "id": "jCpa29jyVdic"
   },
   "outputs": [],
   "source": [
    "df_cleaned.rename(columns={'Value': 'Land_per_1000ha','Area':'Country'}, inplace=True)"
   ]
  },
  {
   "cell_type": "code",
   "execution_count": 14,
   "metadata": {
    "colab": {
     "base_uri": "https://localhost:8080/"
    },
    "id": "FOhlrJx5VjNg",
    "outputId": "a068a0fd-2895-4fc9-f05f-ef42679e8adb"
   },
   "outputs": [
    {
     "name": "stdout",
     "output_type": "stream",
     "text": [
      "CSV file saved at: data/clean_landcover.csv\n"
     ]
    }
   ],
   "source": [
    "# Save to CSV\n",
    "output_path=\"data/clean_landcover.csv\"\n",
    "df_cleaned.to_csv(output_path, index=False)\n",
    "\n",
    "print(f\"CSV file saved at: {output_path}\")"
   ]
  },
  {
   "cell_type": "markdown",
   "metadata": {
    "id": "IDVGQXUrVncY"
   },
   "source": [
    "# Pesticides Raw"
   ]
  },
  {
   "cell_type": "code",
   "execution_count": 15,
   "metadata": {
    "colab": {
     "base_uri": "https://localhost:8080/"
    },
    "id": "iAbHS4yfVqp8",
    "outputId": "e2e14781-2b06-4da6-a575-60efb00b3a85"
   },
   "outputs": [
    {
     "name": "stdout",
     "output_type": "stream",
     "text": [
      "<class 'pandas.core.frame.DataFrame'>\n",
      "RangeIndex: 6862 entries, 0 to 6861\n",
      "Data columns (total 15 columns):\n",
      " #   Column            Non-Null Count  Dtype  \n",
      "---  ------            --------------  -----  \n",
      " 0   Domain Code       6862 non-null   object \n",
      " 1   Domain            6862 non-null   object \n",
      " 2   Area Code (M49)   6862 non-null   int64  \n",
      " 3   Area              6862 non-null   object \n",
      " 4   Element Code      6862 non-null   int64  \n",
      " 5   Element           6862 non-null   object \n",
      " 6   Item Code         6862 non-null   int64  \n",
      " 7   Item              6862 non-null   object \n",
      " 8   Year Code         6862 non-null   int64  \n",
      " 9   Year              6862 non-null   int64  \n",
      " 10  Unit              6862 non-null   object \n",
      " 11  Value             6862 non-null   float64\n",
      " 12  Flag              6862 non-null   object \n",
      " 13  Flag Description  6862 non-null   object \n",
      " 14  Note              6862 non-null   object \n",
      "dtypes: float64(1), int64(5), object(9)\n",
      "memory usage: 804.3+ KB\n"
     ]
    }
   ],
   "source": [
    "# Load the Excel file\n",
    "df = pd.read_excel(\"data/pesticides_raw.xlsx\")\n",
    "df.info()"
   ]
  },
  {
   "cell_type": "code",
   "execution_count": 16,
   "metadata": {
    "colab": {
     "base_uri": "https://localhost:8080/"
    },
    "id": "MIrY2BSiVwh_",
    "outputId": "423fb6c2-f34f-4d1f-c3d6-8d12a5605277"
   },
   "outputs": [
    {
     "name": "stdout",
     "output_type": "stream",
     "text": [
      "<class 'pandas.core.frame.DataFrame'>\n",
      "RangeIndex: 6862 entries, 0 to 6861\n",
      "Data columns (total 8 columns):\n",
      " #   Column           Non-Null Count  Dtype  \n",
      "---  ------           --------------  -----  \n",
      " 0   Domain           6862 non-null   object \n",
      " 1   Area Code (M49)  6862 non-null   int64  \n",
      " 2   Area             6862 non-null   object \n",
      " 3   Element          6862 non-null   object \n",
      " 4   Item             6862 non-null   object \n",
      " 5   Year             6862 non-null   int64  \n",
      " 6   Unit             6862 non-null   object \n",
      " 7   Value            6862 non-null   float64\n",
      "dtypes: float64(1), int64(2), object(5)\n",
      "memory usage: 429.0+ KB\n"
     ]
    }
   ],
   "source": [
    "# Drop Un-wanted Colums\n",
    "columns_to_drop = ['Domain Code','Element Code','Item Code','Year Code','Flag','Flag Description','Note']\n",
    "df_cleaned = df.drop(columns=columns_to_drop, errors='ignore')\n",
    "df_cleaned.info()"
   ]
  },
  {
   "cell_type": "code",
   "execution_count": 18,
   "metadata": {
    "colab": {
     "base_uri": "https://localhost:8080/"
    },
    "id": "w5WMjp8eVz4O",
    "outputId": "fd2d1440-de5e-45ea-91fd-f4cc9b27fa87"
   },
   "outputs": [
    {
     "name": "stdout",
     "output_type": "stream",
     "text": [
      "CSV file saved at: data/clean_pesticides.csv\n"
     ]
    }
   ],
   "source": [
    "# Save to CSV\n",
    "output_path=\"data/clean_pesticides.csv\"\n",
    "df_cleaned.to_csv(output_path, index=False)\n",
    "\n",
    "print(f\"CSV file saved at: {output_path}\")"
   ]
  },
  {
   "cell_type": "markdown",
   "metadata": {
    "id": "ePg3LFJ1V4GT"
   },
   "source": [
    "# Rain Fall Raw"
   ]
  },
  {
   "cell_type": "code",
   "execution_count": 19,
   "metadata": {
    "colab": {
     "base_uri": "https://localhost:8080/"
    },
    "id": "vIN-cTCwV7jy",
    "outputId": "4df06d94-cc8f-49a1-8740-7c736554ade9"
   },
   "outputs": [
    {
     "name": "stdout",
     "output_type": "stream",
     "text": [
      "<class 'pandas.core.frame.DataFrame'>\n",
      "RangeIndex: 266 entries, 0 to 265\n",
      "Data columns (total 68 columns):\n",
      " #   Column          Non-Null Count  Dtype  \n",
      "---  ------          --------------  -----  \n",
      " 0   Country Name    266 non-null    object \n",
      " 1   Country Code    266 non-null    object \n",
      " 2   Indicator Name  266 non-null    object \n",
      " 3   Indicator Code  266 non-null    object \n",
      " 4   1960            0 non-null      float64\n",
      " 5   1961            0 non-null      float64\n",
      " 6   1962            0 non-null      float64\n",
      " 7   1963            0 non-null      float64\n",
      " 8   1964            0 non-null      float64\n",
      " 9   1965            0 non-null      float64\n",
      " 10  1966            0 non-null      float64\n",
      " 11  1967            0 non-null      float64\n",
      " 12  1968            0 non-null      float64\n",
      " 13  1969            0 non-null      float64\n",
      " 14  1970            0 non-null      float64\n",
      " 15  1971            0 non-null      float64\n",
      " 16  1972            0 non-null      float64\n",
      " 17  1973            0 non-null      float64\n",
      " 18  1974            0 non-null      float64\n",
      " 19  1975            0 non-null      float64\n",
      " 20  1976            0 non-null      float64\n",
      " 21  1977            0 non-null      float64\n",
      " 22  1978            0 non-null      float64\n",
      " 23  1979            0 non-null      float64\n",
      " 24  1980            0 non-null      float64\n",
      " 25  1981            0 non-null      float64\n",
      " 26  1982            0 non-null      float64\n",
      " 27  1983            0 non-null      float64\n",
      " 28  1984            0 non-null      float64\n",
      " 29  1985            0 non-null      float64\n",
      " 30  1986            0 non-null      float64\n",
      " 31  1987            0 non-null      float64\n",
      " 32  1988            0 non-null      float64\n",
      " 33  1989            0 non-null      float64\n",
      " 34  1990            216 non-null    float64\n",
      " 35  1991            220 non-null    float64\n",
      " 36  1992            249 non-null    float64\n",
      " 37  1993            253 non-null    float64\n",
      " 38  1994            253 non-null    float64\n",
      " 39  1995            253 non-null    float64\n",
      " 40  1996            253 non-null    float64\n",
      " 41  1997            253 non-null    float64\n",
      " 42  1998            253 non-null    float64\n",
      " 43  1999            253 non-null    float64\n",
      " 44  2000            255 non-null    float64\n",
      " 45  2001            255 non-null    float64\n",
      " 46  2002            255 non-null    float64\n",
      " 47  2003            255 non-null    float64\n",
      " 48  2004            255 non-null    float64\n",
      " 49  2005            255 non-null    float64\n",
      " 50  2006            257 non-null    float64\n",
      " 51  2007            257 non-null    float64\n",
      " 52  2008            257 non-null    float64\n",
      " 53  2009            257 non-null    float64\n",
      " 54  2010            257 non-null    float64\n",
      " 55  2011            260 non-null    float64\n",
      " 56  2012            262 non-null    float64\n",
      " 57  2013            262 non-null    float64\n",
      " 58  2014            262 non-null    float64\n",
      " 59  2015            262 non-null    float64\n",
      " 60  2016            262 non-null    float64\n",
      " 61  2017            262 non-null    float64\n",
      " 62  2018            262 non-null    float64\n",
      " 63  2019            262 non-null    float64\n",
      " 64  2020            262 non-null    float64\n",
      " 65  2021            262 non-null    float64\n",
      " 66  2022            258 non-null    float64\n",
      " 67  2023            0 non-null      float64\n",
      "dtypes: float64(64), object(4)\n",
      "memory usage: 141.4+ KB\n"
     ]
    }
   ],
   "source": [
    "# Load the Excel file\n",
    "df_raw = pd.read_excel(\"data/rainfall_raw.xlsx\")\n",
    "df_raw.info()"
   ]
  },
  {
   "cell_type": "code",
   "execution_count": 20,
   "metadata": {
    "id": "p5oZ3ozlWAFW"
   },
   "outputs": [],
   "source": [
    "# Melt the dataset to reshape it\n",
    "df_melted = df_raw.melt(id_vars=['Country Name','Country Code', 'Indicator Name', 'Indicator Code'],\n",
    "                     var_name='Year',\n",
    "                     value_name='average_rain_fall_mm_per_year')"
   ]
  },
  {
   "cell_type": "code",
   "execution_count": 21,
   "metadata": {
    "id": "0Ncs6BRUWCpx"
   },
   "outputs": [],
   "source": [
    "df_cleaned = df_melted.dropna(axis=0, how='any')"
   ]
  },
  {
   "cell_type": "code",
   "execution_count": 22,
   "metadata": {
    "id": "cuAw8PAqWEgQ"
   },
   "outputs": [],
   "source": [
    "df_cleaned2 = df_cleaned.rename(columns={'Country Name': 'Country', 'Country Code':'Code'})"
   ]
  },
  {
   "cell_type": "code",
   "execution_count": 23,
   "metadata": {
    "colab": {
     "base_uri": "https://localhost:8080/"
    },
    "id": "Cw6U-eeTWGTz",
    "outputId": "41c5472d-5794-4ae8-f612-1330617c8728"
   },
   "outputs": [
    {
     "name": "stdout",
     "output_type": "stream",
     "text": [
      "CSV file saved at: data/cleaned_rainfall.csv\n"
     ]
    }
   ],
   "source": [
    "# Save to CSV\n",
    "output_path = \"data/cleaned_rainfall.csv\"\n",
    "df_cleaned2.to_csv(output_path, index=False)\n",
    "\n",
    "print(f\"CSV file saved at: {output_path}\")"
   ]
  },
  {
   "cell_type": "markdown",
   "metadata": {
    "id": "kMwA31EDWJfS"
   },
   "source": [
    "# Temperature  Raw"
   ]
  },
  {
   "cell_type": "code",
   "execution_count": 24,
   "metadata": {
    "colab": {
     "base_uri": "https://localhost:8080/",
     "height": 307
    },
    "id": "8R-5yB6BWQbb",
    "outputId": "b2b2b56b-bfb8-4bf8-ba65-b84521cd53f9"
   },
   "outputs": [
    {
     "data": {
      "text/html": [
       "<div>\n",
       "<style scoped>\n",
       "    .dataframe tbody tr th:only-of-type {\n",
       "        vertical-align: middle;\n",
       "    }\n",
       "\n",
       "    .dataframe tbody tr th {\n",
       "        vertical-align: top;\n",
       "    }\n",
       "\n",
       "    .dataframe thead th {\n",
       "        text-align: right;\n",
       "    }\n",
       "</style>\n",
       "<table border=\"1\" class=\"dataframe\">\n",
       "  <thead>\n",
       "    <tr style=\"text-align: right;\">\n",
       "      <th></th>\n",
       "      <th>code</th>\n",
       "      <th>name</th>\n",
       "      <th>1901-07</th>\n",
       "      <th>1902-07</th>\n",
       "      <th>1903-07</th>\n",
       "      <th>1904-07</th>\n",
       "      <th>1905-07</th>\n",
       "      <th>1906-07</th>\n",
       "      <th>1907-07</th>\n",
       "      <th>1908-07</th>\n",
       "      <th>...</th>\n",
       "      <th>2014-07</th>\n",
       "      <th>2015-07</th>\n",
       "      <th>2016-07</th>\n",
       "      <th>2017-07</th>\n",
       "      <th>2018-07</th>\n",
       "      <th>2019-07</th>\n",
       "      <th>2020-07</th>\n",
       "      <th>2021-07</th>\n",
       "      <th>2022-07</th>\n",
       "      <th>2023-07</th>\n",
       "    </tr>\n",
       "  </thead>\n",
       "  <tbody>\n",
       "    <tr>\n",
       "      <th>0</th>\n",
       "      <td>ABW</td>\n",
       "      <td>Aruba (Neth.)</td>\n",
       "      <td>28.22</td>\n",
       "      <td>27.79</td>\n",
       "      <td>27.89</td>\n",
       "      <td>27.62</td>\n",
       "      <td>27.68</td>\n",
       "      <td>27.58</td>\n",
       "      <td>27.56</td>\n",
       "      <td>27.46</td>\n",
       "      <td>...</td>\n",
       "      <td>29.46</td>\n",
       "      <td>29.68</td>\n",
       "      <td>29.71</td>\n",
       "      <td>29.27</td>\n",
       "      <td>28.95</td>\n",
       "      <td>29.33</td>\n",
       "      <td>29.34</td>\n",
       "      <td>29.04</td>\n",
       "      <td>28.81</td>\n",
       "      <td>29.39</td>\n",
       "    </tr>\n",
       "    <tr>\n",
       "      <th>1</th>\n",
       "      <td>AFG</td>\n",
       "      <td>Afghanistan</td>\n",
       "      <td>12.79</td>\n",
       "      <td>13.00</td>\n",
       "      <td>11.82</td>\n",
       "      <td>12.14</td>\n",
       "      <td>12.03</td>\n",
       "      <td>12.52</td>\n",
       "      <td>11.90</td>\n",
       "      <td>12.22</td>\n",
       "      <td>...</td>\n",
       "      <td>13.20</td>\n",
       "      <td>13.78</td>\n",
       "      <td>14.26</td>\n",
       "      <td>13.88</td>\n",
       "      <td>14.18</td>\n",
       "      <td>13.80</td>\n",
       "      <td>13.19</td>\n",
       "      <td>14.34</td>\n",
       "      <td>14.51</td>\n",
       "      <td>14.67</td>\n",
       "    </tr>\n",
       "    <tr>\n",
       "      <th>2</th>\n",
       "      <td>AGO</td>\n",
       "      <td>Angola</td>\n",
       "      <td>21.32</td>\n",
       "      <td>21.36</td>\n",
       "      <td>21.37</td>\n",
       "      <td>21.28</td>\n",
       "      <td>21.32</td>\n",
       "      <td>21.20</td>\n",
       "      <td>21.22</td>\n",
       "      <td>21.29</td>\n",
       "      <td>...</td>\n",
       "      <td>21.56</td>\n",
       "      <td>21.69</td>\n",
       "      <td>21.94</td>\n",
       "      <td>21.84</td>\n",
       "      <td>21.66</td>\n",
       "      <td>21.76</td>\n",
       "      <td>21.72</td>\n",
       "      <td>21.73</td>\n",
       "      <td>21.62</td>\n",
       "      <td>21.51</td>\n",
       "    </tr>\n",
       "    <tr>\n",
       "      <th>3</th>\n",
       "      <td>AIA</td>\n",
       "      <td>Anguilla (U.K.)</td>\n",
       "      <td>27.19</td>\n",
       "      <td>26.77</td>\n",
       "      <td>26.81</td>\n",
       "      <td>26.34</td>\n",
       "      <td>26.69</td>\n",
       "      <td>26.45</td>\n",
       "      <td>26.11</td>\n",
       "      <td>26.25</td>\n",
       "      <td>...</td>\n",
       "      <td>27.97</td>\n",
       "      <td>28.22</td>\n",
       "      <td>28.15</td>\n",
       "      <td>27.96</td>\n",
       "      <td>27.70</td>\n",
       "      <td>28.08</td>\n",
       "      <td>28.04</td>\n",
       "      <td>27.96</td>\n",
       "      <td>27.73</td>\n",
       "      <td>28.35</td>\n",
       "    </tr>\n",
       "    <tr>\n",
       "      <th>4</th>\n",
       "      <td>ALA</td>\n",
       "      <td>Finland</td>\n",
       "      <td>5.39</td>\n",
       "      <td>3.43</td>\n",
       "      <td>5.29</td>\n",
       "      <td>4.72</td>\n",
       "      <td>5.17</td>\n",
       "      <td>5.70</td>\n",
       "      <td>4.55</td>\n",
       "      <td>4.88</td>\n",
       "      <td>...</td>\n",
       "      <td>7.22</td>\n",
       "      <td>6.88</td>\n",
       "      <td>6.35</td>\n",
       "      <td>6.17</td>\n",
       "      <td>6.94</td>\n",
       "      <td>6.92</td>\n",
       "      <td>7.82</td>\n",
       "      <td>6.21</td>\n",
       "      <td>6.87</td>\n",
       "      <td>6.66</td>\n",
       "    </tr>\n",
       "  </tbody>\n",
       "</table>\n",
       "<p>5 rows × 125 columns</p>\n",
       "</div>"
      ],
      "text/plain": [
       "  code             name  1901-07  1902-07  1903-07  1904-07  1905-07  1906-07  \\\n",
       "0  ABW    Aruba (Neth.)    28.22    27.79    27.89    27.62    27.68    27.58   \n",
       "1  AFG      Afghanistan    12.79    13.00    11.82    12.14    12.03    12.52   \n",
       "2  AGO           Angola    21.32    21.36    21.37    21.28    21.32    21.20   \n",
       "3  AIA  Anguilla (U.K.)    27.19    26.77    26.81    26.34    26.69    26.45   \n",
       "4  ALA          Finland     5.39     3.43     5.29     4.72     5.17     5.70   \n",
       "\n",
       "   1907-07  1908-07  ...  2014-07  2015-07  2016-07  2017-07  2018-07  \\\n",
       "0    27.56    27.46  ...    29.46    29.68    29.71    29.27    28.95   \n",
       "1    11.90    12.22  ...    13.20    13.78    14.26    13.88    14.18   \n",
       "2    21.22    21.29  ...    21.56    21.69    21.94    21.84    21.66   \n",
       "3    26.11    26.25  ...    27.97    28.22    28.15    27.96    27.70   \n",
       "4     4.55     4.88  ...     7.22     6.88     6.35     6.17     6.94   \n",
       "\n",
       "   2019-07  2020-07  2021-07  2022-07  2023-07  \n",
       "0    29.33    29.34    29.04    28.81    29.39  \n",
       "1    13.80    13.19    14.34    14.51    14.67  \n",
       "2    21.76    21.72    21.73    21.62    21.51  \n",
       "3    28.08    28.04    27.96    27.73    28.35  \n",
       "4     6.92     7.82     6.21     6.87     6.66  \n",
       "\n",
       "[5 rows x 125 columns]"
      ]
     },
     "execution_count": 24,
     "metadata": {},
     "output_type": "execute_result"
    }
   ],
   "source": [
    "# Load the Excel file\n",
    "df = pd.read_excel(\"data/temp_raw.xlsx\")\n",
    "df.head()"
   ]
  },
  {
   "cell_type": "code",
   "execution_count": 25,
   "metadata": {
    "colab": {
     "base_uri": "https://localhost:8080/"
    },
    "id": "OypmmJoaWUOp",
    "outputId": "af44d4c0-8cdd-4188-cd65-0db54af4b90f"
   },
   "outputs": [
    {
     "name": "stdout",
     "output_type": "stream",
     "text": [
      "  code          Country  Year  avg_temp\n",
      "0  ABW    Aruba (Neth.)  1901     28.22\n",
      "1  AFG      Afghanistan  1901     12.79\n",
      "2  AGO           Angola  1901     21.32\n",
      "3  AIA  Anguilla (U.K.)  1901     27.19\n",
      "4  ALA          Finland  1901      5.39\n"
     ]
    }
   ],
   "source": [
    "\n",
    "# Melt the dataframe to convert wide format to long format\n",
    "df_melted = df.melt(id_vars=['code', 'name'], var_name='Year', value_name='avg_temp')\n",
    "\n",
    "# Extract only the year part from 'Year' (convert '1901-07' to '1901')\n",
    "df_melted['Year'] = df_melted['Year'].astype(str).str[:4]\n",
    "\n",
    "# Rename columns for clarity\n",
    "df_melted.rename(columns={'name': 'Country'}, inplace=True)\n",
    "\n",
    "# Display the first few rows\n",
    "print(df_melted.head())"
   ]
  },
  {
   "cell_type": "code",
   "execution_count": 26,
   "metadata": {
    "colab": {
     "base_uri": "https://localhost:8080/"
    },
    "id": "AzzaC3-hWXKr",
    "outputId": "4bc80852-48ee-4d1a-a692-f2836dfd0185"
   },
   "outputs": [
    {
     "name": "stdout",
     "output_type": "stream",
     "text": [
      "<class 'pandas.core.frame.DataFrame'>\n",
      "RangeIndex: 30258 entries, 0 to 30257\n",
      "Data columns (total 4 columns):\n",
      " #   Column    Non-Null Count  Dtype  \n",
      "---  ------    --------------  -----  \n",
      " 0   code      30258 non-null  object \n",
      " 1   Country   30258 non-null  object \n",
      " 2   Year      30258 non-null  object \n",
      " 3   avg_temp  30012 non-null  float64\n",
      "dtypes: float64(1), object(3)\n",
      "memory usage: 945.7+ KB\n"
     ]
    }
   ],
   "source": [
    "df_melted.info()"
   ]
  },
  {
   "cell_type": "code",
   "execution_count": 27,
   "metadata": {
    "id": "k9r0x6XdWZVO"
   },
   "outputs": [],
   "source": [
    "df_cleaned = df_melted.dropna(axis=0, how='any')  # axis=0 means row-wise"
   ]
  },
  {
   "cell_type": "code",
   "execution_count": 28,
   "metadata": {
    "id": "V87jv3StWbUr"
   },
   "outputs": [],
   "source": [
    "df_cleaned2 = df_cleaned.rename(columns={'code':'Code'})"
   ]
  },
  {
   "cell_type": "code",
   "execution_count": 29,
   "metadata": {
    "colab": {
     "base_uri": "https://localhost:8080/"
    },
    "id": "GPeaF6x-WciY",
    "outputId": "fdde426b-4915-4845-8b66-7b1818fec3ca"
   },
   "outputs": [
    {
     "name": "stdout",
     "output_type": "stream",
     "text": [
      "CSV file saved at: data/clean_temp.csv\n"
     ]
    }
   ],
   "source": [
    "# Save to CSV\n",
    "output_path=\"data/clean_temp.csv\"\n",
    "df_cleaned2.to_csv(output_path, index=False)\n",
    "\n",
    "print(f\"CSV file saved at: {output_path}\")"
   ]
  },
  {
   "cell_type": "markdown",
   "metadata": {
    "id": "6Jau15cRWfaX"
   },
   "source": [
    "# Yield Raw"
   ]
  },
  {
   "cell_type": "code",
   "execution_count": 30,
   "metadata": {
    "colab": {
     "base_uri": "https://localhost:8080/"
    },
    "id": "zQT0Ug6qWlZT",
    "outputId": "40300de4-8212-4b98-f88b-96036dbc50a9"
   },
   "outputs": [
    {
     "name": "stdout",
     "output_type": "stream",
     "text": [
      "<class 'pandas.core.frame.DataFrame'>\n",
      "RangeIndex: 63181 entries, 0 to 63180\n",
      "Data columns (total 15 columns):\n",
      " #   Column            Non-Null Count  Dtype  \n",
      "---  ------            --------------  -----  \n",
      " 0   Domain Code       63181 non-null  object \n",
      " 1   Domain            63181 non-null  object \n",
      " 2   Area Code (M49)   63181 non-null  int64  \n",
      " 3   Area              63181 non-null  object \n",
      " 4   Element Code      63181 non-null  int64  \n",
      " 5   Element           63181 non-null  object \n",
      " 6   Item Code (FAO)   63181 non-null  int64  \n",
      " 7   Item              63181 non-null  object \n",
      " 8   Year Code         63181 non-null  int64  \n",
      " 9   Year              63181 non-null  int64  \n",
      " 10  Unit              63181 non-null  object \n",
      " 11  Value             63181 non-null  float64\n",
      " 12  Flag              63181 non-null  object \n",
      " 13  Flag Description  63181 non-null  object \n",
      " 14  Note              0 non-null      float64\n",
      "dtypes: float64(2), int64(5), object(8)\n",
      "memory usage: 7.2+ MB\n"
     ]
    }
   ],
   "source": [
    "# Load the Excel file\n",
    "df_raw = pd.read_excel(\"data/yield_raw.xlsx\")\n",
    "df_raw.info()"
   ]
  },
  {
   "cell_type": "code",
   "execution_count": 31,
   "metadata": {
    "id": "7YSmnQ7iWpNS"
   },
   "outputs": [],
   "source": [
    "# Drop Un-wanted Colums\n",
    "columns_to_drop = ['Flag','Flag Description','Note']\n",
    "df_cleaned = df_raw.drop(columns=columns_to_drop, errors='ignore')"
   ]
  },
  {
   "cell_type": "code",
   "execution_count": 32,
   "metadata": {
    "colab": {
     "base_uri": "https://localhost:8080/"
    },
    "id": "S6iZSDeLWsgj",
    "outputId": "50e5b99b-1339-4f9e-c424-fe67ef4be6ae"
   },
   "outputs": [
    {
     "name": "stdout",
     "output_type": "stream",
     "text": [
      "CSV file saved at: data/clean_yield.csv\n"
     ]
    }
   ],
   "source": [
    "# Save to CSV\n",
    "output_path=\"data/clean_yield.csv\"\n",
    "df_cleaned.to_csv(output_path, index=False)\n",
    "\n",
    "print(f\"CSV file saved at: {output_path}\")"
   ]
  },
  {
   "cell_type": "markdown",
   "metadata": {
    "id": "texlIJumW0I0"
   },
   "source": [
    "# Final"
   ]
  },
  {
   "cell_type": "code",
   "execution_count": 33,
   "metadata": {
    "id": "AyTx9mbDWzqV"
   },
   "outputs": [],
   "source": [
    "# Load the Rain Fall Data\n",
    "df_rainfall = pd.read_csv(\"data/cleaned_rainfall.csv\")\n",
    "# Load the Land Cover Data\n",
    "df_landcover = pd.read_csv(\"data/clean_landcover.csv\")\n",
    "# Load the Temparature Data\n",
    "df_temp = pd.read_csv(\"data/clean_temp.csv\")\n",
    "# Load the Pesticides Data\n",
    "df_pesticides = pd.read_csv(\"data/clean_pesticides.csv\")\n",
    "# Load the Yield Data\n",
    "df_yield = pd.read_csv(\"data/clean_yield.csv\")"
   ]
  },
  {
   "cell_type": "code",
   "execution_count": 34,
   "metadata": {
    "id": "P-aZBFIdXCoX"
   },
   "outputs": [],
   "source": [
    "df_rainfall.rename(columns={'Country Code': 'code'}, inplace=True)"
   ]
  },
  {
   "cell_type": "code",
   "execution_count": 35,
   "metadata": {
    "id": "LqHU0WXHXFBw"
   },
   "outputs": [],
   "source": [
    "# Merge on the common column \"ID\"\n",
    "df_crop1 = pd.merge(df_yield, df_pesticides, on=['Area Code (M49)', 'Year'], how='inner')"
   ]
  },
  {
   "cell_type": "code",
   "execution_count": 36,
   "metadata": {
    "id": "bGS8gzcFXHLW"
   },
   "outputs": [],
   "source": [
    "# Merge on the common column \"ID\"\n",
    "df_crop2 = pd.merge(df_crop1, df_landcover, on=['Area Code (M49)', 'Year'], how='inner')\n"
   ]
  },
  {
   "cell_type": "code",
   "execution_count": 37,
   "metadata": {
    "id": "4MA1-y8mXI8o"
   },
   "outputs": [],
   "source": [
    "df_crop3 = df_crop2.rename(columns={'Item_x': 'Item', 'Item':'Item_Land','Value_x': 'kg/ha_yield','Value_y': 'pesticides(TU)',})"
   ]
  },
  {
   "cell_type": "code",
   "execution_count": 38,
   "metadata": {
    "id": "W-oq_eKyXKvr"
   },
   "outputs": [],
   "source": [
    "# Drop Un-wanted Colums\n",
    "columns_to_drop = ['Domain Code','Domain_x','Area_x','Element Code','Element_x','Year Code','Item_y','Domain_y','Unit_x','Area_y',\n",
    "                   'Element_y','Unit_y','Element_y','Item_y','Unit_y','Item_Land','Element']\n",
    "df_crop4 = df_crop3.drop(columns=columns_to_drop, errors='ignore')"
   ]
  },
  {
   "cell_type": "code",
   "execution_count": 39,
   "metadata": {
    "id": "4ALzsHA5XM6W"
   },
   "outputs": [],
   "source": [
    "df_crop4 = df_crop4[['Area Code (M49)', 'Country','Year','Item Code (FAO)', 'Item','kg/ha_yield','pesticides(TU)','Land_per_1000ha']]  # Rearranged order"
   ]
  },
  {
   "cell_type": "code",
   "execution_count": 40,
   "metadata": {
    "id": "FHj0uW2OXOkg"
   },
   "outputs": [],
   "source": [
    "# Merge on the common column \"ID\"\n",
    "df_climate = pd.merge(df_rainfall, df_temp, on=['Code', 'Year'], how='inner')"
   ]
  },
  {
   "cell_type": "code",
   "execution_count": 41,
   "metadata": {
    "id": "MlCCwn-yXRw3"
   },
   "outputs": [],
   "source": [
    "# Drop Un-wanted Colums\n",
    "columns_to_drop_c = ['Country_y',]\n",
    "df_climate = df_climate.drop(columns=columns_to_drop_c, errors='ignore')\n",
    "df_climate = df_climate.rename(columns={'Country_x':'Country'})"
   ]
  },
  {
   "cell_type": "code",
   "execution_count": 42,
   "metadata": {
    "colab": {
     "base_uri": "https://localhost:8080/",
     "height": 206
    },
    "id": "OVa8oR56XTeK",
    "outputId": "d45a40cf-d73c-40bd-eb62-d458c97cb211"
   },
   "outputs": [
    {
     "data": {
      "text/html": [
       "<div>\n",
       "<style scoped>\n",
       "    .dataframe tbody tr th:only-of-type {\n",
       "        vertical-align: middle;\n",
       "    }\n",
       "\n",
       "    .dataframe tbody tr th {\n",
       "        vertical-align: top;\n",
       "    }\n",
       "\n",
       "    .dataframe thead th {\n",
       "        text-align: right;\n",
       "    }\n",
       "</style>\n",
       "<table border=\"1\" class=\"dataframe\">\n",
       "  <thead>\n",
       "    <tr style=\"text-align: right;\">\n",
       "      <th></th>\n",
       "      <th>Country</th>\n",
       "      <th>Code</th>\n",
       "      <th>Indicator Name</th>\n",
       "      <th>Indicator Code</th>\n",
       "      <th>Year</th>\n",
       "      <th>average_rain_fall_mm_per_year</th>\n",
       "      <th>avg_temp</th>\n",
       "    </tr>\n",
       "  </thead>\n",
       "  <tbody>\n",
       "    <tr>\n",
       "      <th>0</th>\n",
       "      <td>Aruba</td>\n",
       "      <td>ABW</td>\n",
       "      <td>Forest area (% of land area)</td>\n",
       "      <td>AG.LND.FRST.ZS</td>\n",
       "      <td>1990</td>\n",
       "      <td>2.333333</td>\n",
       "      <td>28.07</td>\n",
       "    </tr>\n",
       "    <tr>\n",
       "      <th>1</th>\n",
       "      <td>Afghanistan</td>\n",
       "      <td>AFG</td>\n",
       "      <td>Forest area (% of land area)</td>\n",
       "      <td>AG.LND.FRST.ZS</td>\n",
       "      <td>1990</td>\n",
       "      <td>1.852782</td>\n",
       "      <td>13.26</td>\n",
       "    </tr>\n",
       "    <tr>\n",
       "      <th>2</th>\n",
       "      <td>Angola</td>\n",
       "      <td>AGO</td>\n",
       "      <td>Forest area (% of land area)</td>\n",
       "      <td>AG.LND.FRST.ZS</td>\n",
       "      <td>1990</td>\n",
       "      <td>63.578070</td>\n",
       "      <td>21.73</td>\n",
       "    </tr>\n",
       "    <tr>\n",
       "      <th>3</th>\n",
       "      <td>Albania</td>\n",
       "      <td>ALB</td>\n",
       "      <td>Forest area (% of land area)</td>\n",
       "      <td>AG.LND.FRST.ZS</td>\n",
       "      <td>1990</td>\n",
       "      <td>28.788321</td>\n",
       "      <td>12.17</td>\n",
       "    </tr>\n",
       "    <tr>\n",
       "      <th>4</th>\n",
       "      <td>Andorra</td>\n",
       "      <td>AND</td>\n",
       "      <td>Forest area (% of land area)</td>\n",
       "      <td>AG.LND.FRST.ZS</td>\n",
       "      <td>1990</td>\n",
       "      <td>34.042553</td>\n",
       "      <td>8.19</td>\n",
       "    </tr>\n",
       "  </tbody>\n",
       "</table>\n",
       "</div>"
      ],
      "text/plain": [
       "       Country Code                Indicator Name  Indicator Code  Year  \\\n",
       "0        Aruba  ABW  Forest area (% of land area)  AG.LND.FRST.ZS  1990   \n",
       "1  Afghanistan  AFG  Forest area (% of land area)  AG.LND.FRST.ZS  1990   \n",
       "2       Angola  AGO  Forest area (% of land area)  AG.LND.FRST.ZS  1990   \n",
       "3      Albania  ALB  Forest area (% of land area)  AG.LND.FRST.ZS  1990   \n",
       "4      Andorra  AND  Forest area (% of land area)  AG.LND.FRST.ZS  1990   \n",
       "\n",
       "   average_rain_fall_mm_per_year  avg_temp  \n",
       "0                       2.333333     28.07  \n",
       "1                       1.852782     13.26  \n",
       "2                      63.578070     21.73  \n",
       "3                      28.788321     12.17  \n",
       "4                      34.042553      8.19  "
      ]
     },
     "execution_count": 42,
     "metadata": {},
     "output_type": "execute_result"
    }
   ],
   "source": [
    "df_climate.head()"
   ]
  },
  {
   "cell_type": "code",
   "execution_count": 43,
   "metadata": {
    "id": "ZxIJbvXNXVqi"
   },
   "outputs": [],
   "source": [
    "# Merge on the common column \"ID\"\n",
    "df_combine = pd.merge(df_crop4, df_climate, on=['Country', 'Year'], how='inner')"
   ]
  },
  {
   "cell_type": "code",
   "execution_count": 44,
   "metadata": {
    "colab": {
     "base_uri": "https://localhost:8080/"
    },
    "id": "zzS-99hEXX-W",
    "outputId": "103998a4-868f-46a8-d289-d6fb903abfb1"
   },
   "outputs": [
    {
     "name": "stdout",
     "output_type": "stream",
     "text": [
      "<class 'pandas.core.frame.DataFrame'>\n",
      "RangeIndex: 51483 entries, 0 to 51482\n",
      "Data columns (total 13 columns):\n",
      " #   Column                         Non-Null Count  Dtype  \n",
      "---  ------                         --------------  -----  \n",
      " 0   Area Code (M49)                51483 non-null  int64  \n",
      " 1   Country                        51483 non-null  object \n",
      " 2   Year                           51483 non-null  int64  \n",
      " 3   Item Code (FAO)                51483 non-null  int64  \n",
      " 4   Item                           51483 non-null  object \n",
      " 5   kg/ha_yield                    51483 non-null  float64\n",
      " 6   pesticides(TU)                 51483 non-null  float64\n",
      " 7   Land_per_1000ha                51483 non-null  float64\n",
      " 8   Code                           51483 non-null  object \n",
      " 9   Indicator Name                 51483 non-null  object \n",
      " 10  Indicator Code                 51483 non-null  object \n",
      " 11  average_rain_fall_mm_per_year  51483 non-null  float64\n",
      " 12  avg_temp                       51483 non-null  float64\n",
      "dtypes: float64(5), int64(3), object(5)\n",
      "memory usage: 5.1+ MB\n"
     ]
    }
   ],
   "source": [
    "df_combine.info()"
   ]
  },
  {
   "cell_type": "code",
   "execution_count": 45,
   "metadata": {
    "id": "FAdf_3l6XZu9"
   },
   "outputs": [],
   "source": [
    "df_final = df_combine[['Area Code (M49)',\n",
    "                       'Country',\n",
    "                       'Year',\n",
    "                       'Item Code (FAO)',\n",
    "                       'Item',\n",
    "                       'kg/ha_yield',\n",
    "                       'pesticides(TU)',\n",
    "                       'Land_per_1000ha',\n",
    "                       'average_rain_fall_mm_per_year',\n",
    "                       'avg_temp',\n",
    "                       'Code' ,\n",
    "                       'Indicator Name',\n",
    "                       'Indicator Code']]  # Rearranged order"
   ]
  },
  {
   "cell_type": "code",
   "execution_count": 46,
   "metadata": {
    "colab": {
     "base_uri": "https://localhost:8080/",
     "height": 434
    },
    "id": "c5siWkjLXb5s",
    "outputId": "57728950-ddbe-42d5-c48e-f0ef12ec19d9"
   },
   "outputs": [
    {
     "data": {
      "text/html": [
       "<div>\n",
       "<style scoped>\n",
       "    .dataframe tbody tr th:only-of-type {\n",
       "        vertical-align: middle;\n",
       "    }\n",
       "\n",
       "    .dataframe tbody tr th {\n",
       "        vertical-align: top;\n",
       "    }\n",
       "\n",
       "    .dataframe thead th {\n",
       "        text-align: right;\n",
       "    }\n",
       "</style>\n",
       "<table border=\"1\" class=\"dataframe\">\n",
       "  <thead>\n",
       "    <tr style=\"text-align: right;\">\n",
       "      <th></th>\n",
       "      <th>Area Code (M49)</th>\n",
       "      <th>Country</th>\n",
       "      <th>Year</th>\n",
       "      <th>Item Code (FAO)</th>\n",
       "      <th>Item</th>\n",
       "      <th>kg/ha_yield</th>\n",
       "      <th>pesticides(TU)</th>\n",
       "      <th>Land_per_1000ha</th>\n",
       "      <th>average_rain_fall_mm_per_year</th>\n",
       "      <th>avg_temp</th>\n",
       "      <th>Code</th>\n",
       "      <th>Indicator Name</th>\n",
       "      <th>Indicator Code</th>\n",
       "    </tr>\n",
       "  </thead>\n",
       "  <tbody>\n",
       "    <tr>\n",
       "      <th>0</th>\n",
       "      <td>8</td>\n",
       "      <td>Albania</td>\n",
       "      <td>1992</td>\n",
       "      <td>56</td>\n",
       "      <td>Maize (corn)</td>\n",
       "      <td>2487.6</td>\n",
       "      <td>121.0</td>\n",
       "      <td>12.83</td>\n",
       "      <td>28.645985</td>\n",
       "      <td>11.84</td>\n",
       "      <td>ALB</td>\n",
       "      <td>Forest area (% of land area)</td>\n",
       "      <td>AG.LND.FRST.ZS</td>\n",
       "    </tr>\n",
       "    <tr>\n",
       "      <th>1</th>\n",
       "      <td>8</td>\n",
       "      <td>Albania</td>\n",
       "      <td>1993</td>\n",
       "      <td>56</td>\n",
       "      <td>Maize (corn)</td>\n",
       "      <td>2418.5</td>\n",
       "      <td>121.0</td>\n",
       "      <td>13.13</td>\n",
       "      <td>28.574818</td>\n",
       "      <td>11.79</td>\n",
       "      <td>ALB</td>\n",
       "      <td>Forest area (% of land area)</td>\n",
       "      <td>AG.LND.FRST.ZS</td>\n",
       "    </tr>\n",
       "    <tr>\n",
       "      <th>2</th>\n",
       "      <td>8</td>\n",
       "      <td>Albania</td>\n",
       "      <td>1994</td>\n",
       "      <td>56</td>\n",
       "      <td>Maize (corn)</td>\n",
       "      <td>2584.8</td>\n",
       "      <td>201.0</td>\n",
       "      <td>13.43</td>\n",
       "      <td>28.503650</td>\n",
       "      <td>12.81</td>\n",
       "      <td>ALB</td>\n",
       "      <td>Forest area (% of land area)</td>\n",
       "      <td>AG.LND.FRST.ZS</td>\n",
       "    </tr>\n",
       "    <tr>\n",
       "      <th>3</th>\n",
       "      <td>8</td>\n",
       "      <td>Albania</td>\n",
       "      <td>1995</td>\n",
       "      <td>56</td>\n",
       "      <td>Maize (corn)</td>\n",
       "      <td>3130.0</td>\n",
       "      <td>251.0</td>\n",
       "      <td>13.74</td>\n",
       "      <td>28.432482</td>\n",
       "      <td>11.66</td>\n",
       "      <td>ALB</td>\n",
       "      <td>Forest area (% of land area)</td>\n",
       "      <td>AG.LND.FRST.ZS</td>\n",
       "    </tr>\n",
       "    <tr>\n",
       "      <th>4</th>\n",
       "      <td>8</td>\n",
       "      <td>Albania</td>\n",
       "      <td>1996</td>\n",
       "      <td>56</td>\n",
       "      <td>Maize (corn)</td>\n",
       "      <td>3260.4</td>\n",
       "      <td>262.4</td>\n",
       "      <td>14.00</td>\n",
       "      <td>28.361314</td>\n",
       "      <td>11.31</td>\n",
       "      <td>ALB</td>\n",
       "      <td>Forest area (% of land area)</td>\n",
       "      <td>AG.LND.FRST.ZS</td>\n",
       "    </tr>\n",
       "  </tbody>\n",
       "</table>\n",
       "</div>"
      ],
      "text/plain": [
       "   Area Code (M49)  Country  Year  Item Code (FAO)          Item  kg/ha_yield  \\\n",
       "0                8  Albania  1992               56  Maize (corn)       2487.6   \n",
       "1                8  Albania  1993               56  Maize (corn)       2418.5   \n",
       "2                8  Albania  1994               56  Maize (corn)       2584.8   \n",
       "3                8  Albania  1995               56  Maize (corn)       3130.0   \n",
       "4                8  Albania  1996               56  Maize (corn)       3260.4   \n",
       "\n",
       "   pesticides(TU)  Land_per_1000ha  average_rain_fall_mm_per_year  avg_temp  \\\n",
       "0           121.0            12.83                      28.645985     11.84   \n",
       "1           121.0            13.13                      28.574818     11.79   \n",
       "2           201.0            13.43                      28.503650     12.81   \n",
       "3           251.0            13.74                      28.432482     11.66   \n",
       "4           262.4            14.00                      28.361314     11.31   \n",
       "\n",
       "  Code                Indicator Name  Indicator Code  \n",
       "0  ALB  Forest area (% of land area)  AG.LND.FRST.ZS  \n",
       "1  ALB  Forest area (% of land area)  AG.LND.FRST.ZS  \n",
       "2  ALB  Forest area (% of land area)  AG.LND.FRST.ZS  \n",
       "3  ALB  Forest area (% of land area)  AG.LND.FRST.ZS  \n",
       "4  ALB  Forest area (% of land area)  AG.LND.FRST.ZS  "
      ]
     },
     "execution_count": 46,
     "metadata": {},
     "output_type": "execute_result"
    }
   ],
   "source": [
    "df_final.head()"
   ]
  },
  {
   "cell_type": "code",
   "execution_count": 47,
   "metadata": {
    "colab": {
     "base_uri": "https://localhost:8080/"
    },
    "id": "BmlkiS8gXd5j",
    "outputId": "9d020bcb-8316-4f72-f178-bd3bb1f0b1ec"
   },
   "outputs": [
    {
     "name": "stdout",
     "output_type": "stream",
     "text": [
      "CSV file saved at: data/yield_df.csv\n"
     ]
    }
   ],
   "source": [
    "# Save to CSV\n",
    "output_path=\"data/yield_df.csv\"\n",
    "df_final.to_csv(output_path, index=False)\n",
    "\n",
    "print(f\"CSV file saved at: {output_path}\")"
   ]
  }
 ],
 "metadata": {
  "colab": {
   "provenance": []
  },
  "kernelspec": {
   "display_name": "Python 3 (ipykernel)",
   "language": "python",
   "name": "python3"
  },
  "language_info": {
   "codemirror_mode": {
    "name": "ipython",
    "version": 3
   },
   "file_extension": ".py",
   "mimetype": "text/x-python",
   "name": "python",
   "nbconvert_exporter": "python",
   "pygments_lexer": "ipython3",
   "version": "3.12.6"
  }
 },
 "nbformat": 4,
 "nbformat_minor": 4
}
